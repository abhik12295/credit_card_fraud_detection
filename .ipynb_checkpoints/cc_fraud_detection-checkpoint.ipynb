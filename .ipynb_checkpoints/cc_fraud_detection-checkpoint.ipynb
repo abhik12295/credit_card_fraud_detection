{
 "cells": [
  {
   "cell_type": "markdown",
   "id": "english-warehouse",
   "metadata": {},
   "source": [
    "#### Refer kaggle dataset \n",
    "https://www.kaggle.com/mlg-ulb/creditcardfraud"
   ]
  },
  {
   "cell_type": "markdown",
   "id": "intimate-journalist",
   "metadata": {},
   "source": [
    "##### The dataset contains transactions made by credit cards in September 2013 by European cardholders. <br>\n",
    "contains only numerical input variables which are the result of a PCA transformation<br>\n",
    "Features V1, V2, … V28 are the principal components obtained with PCA, the only features which have not been transformed with PCA are 'Time' and 'Amount'. <br>\n",
    "Feature 'Class' is the response variable and it takes value 1 in case of fraud and 0 otherwise. \n"
   ]
  },
  {
   "cell_type": "markdown",
   "id": "decent-publisher",
   "metadata": {},
   "source": [
    "Data imbalance usually reflects an unequal distribution of classes within a dataset. For example, in a credit card fraud detection dataset, most of the credit card transactions are not fraud and a very few classes are fraud transactions. This leaves us with something like 50:1 ratio between the fraud and non-fraud classes."
   ]
  },
  {
   "cell_type": "markdown",
   "id": "outdoor-february",
   "metadata": {},
   "source": [
    "we train a binary classification model without fixing this problem, the model will be completely biased and will also impact the correlations between features."
   ]
  },
  {
   "cell_type": "markdown",
   "id": "roman-superior",
   "metadata": {},
   "source": [
    "Resampling (Oversampling and Undersampling):<br>\n",
    "Undersampling is the process where you randomly delete some of the observations from the majority class in order to match the numbers with the minority class.<br>\n",
    "OverSampling is the process of generating synthetic data that tries to randomly generate a sample of the attributes from observations in the minority class. (can use library called imbalanced-learn or imblearn)-> from imblearn.over_sampling import SMOTE<br>"
   ]
  },
  {
   "cell_type": "markdown",
   "id": "utility-foster",
   "metadata": {},
   "source": [
    "Isolation Forest Algorithm.\n",
    "\n",
    "Return the anomaly score of each sample using the IsolationForest algorithm\n",
    "\n",
    "The IsolationForest ‘isolates’ observations by randomly selecting a feature and then randomly selecting a split value between the maximum and minimum values of the selected feature.<br>\n",
    "Isolation Forest is an outlier detection technique that identifies anomalies instead of normal observations"
   ]
  },
  {
   "cell_type": "code",
   "execution_count": null,
   "id": "married-extension",
   "metadata": {},
   "outputs": [],
   "source": [
    "import numpy as np\n",
    "import pandas as pd\n"
   ]
  }
 ],
 "metadata": {
  "kernelspec": {
   "display_name": "Python 3",
   "language": "python",
   "name": "python3"
  },
  "language_info": {
   "codemirror_mode": {
    "name": "ipython",
    "version": 3
   },
   "file_extension": ".py",
   "mimetype": "text/x-python",
   "name": "python",
   "nbconvert_exporter": "python",
   "pygments_lexer": "ipython3",
   "version": "3.9.1"
  }
 },
 "nbformat": 4,
 "nbformat_minor": 5
}
